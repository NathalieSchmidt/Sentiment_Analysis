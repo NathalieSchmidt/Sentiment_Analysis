{
 "cells": [
  {
   "cell_type": "markdown",
   "metadata": {},
   "source": [
    "# IMDB Dataset Sentiment Analysis"
   ]
  },
  {
   "cell_type": "markdown",
   "metadata": {},
   "source": [
    "The dataset contains IMDB movie reviews and is annotated wether it is a positive or a negative review. The task is to create a model, that can recognize if a review is good or bad. The dataset is taken from the Kaggle competetion that can be found [here](https://www.kaggle.com/columbine/imdb-dataset-sentiment-analysis-in-csv-format)."
   ]
  },
  {
   "cell_type": "code",
   "execution_count": 1,
   "metadata": {},
   "outputs": [],
   "source": [
    "import tensorflow as tf\n",
    "import tqdm\n",
    "import nltk\n",
    "from nltk.corpus import stopwords\n",
    "import matplotlib.pyplot as plt\n",
    "import numpy as np\n",
    "#%matplotlib inline\n",
    "#plt.style.use( 'dark_background')"
   ]
  },
  {
   "cell_type": "markdown",
   "metadata": {},
   "source": [
    "# Data Preprocessing"
   ]
  },
  {
   "cell_type": "markdown",
   "metadata": {},
   "source": [
    "### Reading the data"
   ]
  },
  {
   "cell_type": "markdown",
   "metadata": {},
   "source": [
    "Reading the data by skipping the first line (header), then reading it line by line, then caching it, shuffling it, setting the batch size to 64 and also prefetching it to reduce step time during training. "
   ]
  },
  {
   "cell_type": "code",
   "execution_count": 2,
   "metadata": {},
   "outputs": [
    {
     "data": {
      "text/plain": [
       "(<tf.Tensor: shape=(), dtype=string, numpy=b\"A major disappointment. This was one of the best UK crime drama / detective shows from the 90's which developed the fascinating title character played by Scotland's Robbie Coltrane. However this one-off has little to add and perhaps suffers from an inevitable let down due to raised expectations when a favored show returns after a long hiatus. Coltrane isn't really given much to do, much more attention is spent on the uninteresting killer, and in what he has to act in, he seems uninvolved, almost bored. The ex-soldier's story is written by the books and the attempt to update us on Coltrane's family life seems lightweight. Perhaps if the writers had a whole series in front of them instead of just this one two-hour show they would have written this with much more depth. As is, skip this and watch the old Cracker from the 90's which is far far superior.\">,\n",
       " <tf.Tensor: shape=(), dtype=int32, numpy=0>)"
      ]
     },
     "execution_count": 2,
     "metadata": {},
     "output_type": "execute_result"
    }
   ],
   "source": [
    "def decode_line(line):\n",
    "    return tf.io.decode_csv(line, record_defaults=[str(), int()])\n",
    "\n",
    "train_data = tf.data.TextLineDataset('Train.csv') \\\n",
    "    .skip(1) \\\n",
    "    .map(decode_line) \\\n",
    "    .cache() \\\n",
    "    .shuffle(buffer_size=1024) \\\n",
    "    .batch(64) \\\n",
    "    .prefetch(tf.data.experimental.AUTOTUNE)\n",
    "# Skip header\n",
    "# Parse CSV file\n",
    "# Cache file to disk for better performance\n",
    "# Only training data is shuffled\n",
    "# Preload a single batch at all times in the background\n",
    "\n",
    "val_data = tf.data.TextLineDataset('Valid.csv') \\\n",
    "    .skip(1) \\\n",
    "    .map(decode_line) \\\n",
    "    .cache() \\\n",
    "    .batch(64) \\\n",
    "    .prefetch(tf.data.experimental.AUTOTUNE)\n",
    "\n",
    "test_data = tf.data.TextLineDataset('Test.csv') \\\n",
    "    .skip(1) \\\n",
    "    .map(decode_line) \\\n",
    "    .cache() \\\n",
    "    .batch(64) \\\n",
    "    .prefetch(tf.data.experimental.AUTOTUNE)\n",
    "\n",
    "x, y = next(iter(train_data))\n",
    "x[0], y[0]"
   ]
  },
  {
   "cell_type": "markdown",
   "metadata": {},
   "source": [
    "### Tokenizing and cleaning the sentences"
   ]
  },
  {
   "cell_type": "markdown",
   "metadata": {},
   "source": [
    "The Tokenizer Class will remove all dots, all numbers, transform every word into lower case and then split every sentence into tokens for each word. "
   ]
  },
  {
   "cell_type": "code",
   "execution_count": 3,
   "metadata": {},
   "outputs": [],
   "source": [
    "class Tokenizer(tf.keras.layers.Layer):\n",
    "    \n",
    "    def __init__(self, name='Tokenizer'):\n",
    "        super(Tokenizer, self).__init__(self, name=name)\n",
    "    \n",
    "    def call(self, text):\n",
    "        # remove everything except words and spaces\n",
    "        text = tf.strings.regex_replace(text, r'[^\\w\\s]', '')\n",
    "        # remove digits\n",
    "        text = tf.strings.regex_replace(text, r'\\d', '')\n",
    "        # all letters to lower case\n",
    "        text = tf.strings.lower(text)\n",
    "        # tokenize sentencese to single word tokens\n",
    "        return tf.strings.split(text)"
   ]
  },
  {
   "cell_type": "code",
   "execution_count": 4,
   "metadata": {},
   "outputs": [
    {
     "data": {
      "text/plain": [
       "(<tf.Tensor: shape=(190,), dtype=string, numpy=\n",
       " array([b'this', b'film', b'concerns', b'a', b'very', b'young', b'girl',\n",
       "        b'cassie', b'melissa', b'sagemiller', b'who', b'leaves', b'her',\n",
       "        b'family', b'and', b'heads', b'off', b'to', b'become', b'a',\n",
       "        b'college', b'freshman', b'one', b'night', b'cassie', b'and',\n",
       "        b'her', b'friends', b'decide', b'to', b'go', b'to', b'a', b'wild',\n",
       "        b'party', b'with', b'plenty', b'of', b'drinking', b'and',\n",
       "        b'dancing', b'and', b'cassie', b'is', b'riding', b'with', b'her',\n",
       "        b'boyfriend', b'who', b'she', b'likes', b'but', b'never', b'told',\n",
       "        b'him', b'she', b'loved', b'him', b'as', b'cassie', b'was',\n",
       "        b'driving', b'a', b'car', b'was', b'stopped', b'in', b'the',\n",
       "        b'middle', b'of', b'the', b'road', b'and', b'she', b'was',\n",
       "        b'unable', b'to', b'avoid', b'an', b'accident', b'and', b'as',\n",
       "        b'a', b'result', b'there', b'is', b'a', b'bloody', b'loss', b'of',\n",
       "        b'lives', b'along', b'with', b'her', b'boyfriend', b'cassie',\n",
       "        b'becomes', b'very', b'emotionally', b'upset', b'and', b'has',\n",
       "        b'nightmares', b'which', b'cause', b'her', b'to', b'have',\n",
       "        b'hallucinations', b'about', b'her', b'boyfriend', b'coming',\n",
       "        b'back', b'to', b'life', b'and', b'encounters', b'men', b'trying',\n",
       "        b'to', b'murder', b'her', b'and', b'she', b'is', b'struggling',\n",
       "        b'to', b'find', b'out', b'who', b'her', b'real', b'friends',\n",
       "        b'are', b'who', b'wants', b'her', b'dead', b'and', b'will', b'she',\n",
       "        b'survive', b'this', b'entire', b'horror', b'ordeal', b'cassie',\n",
       "        b'dreams', b'she', b'is', b'being', b'made', b'love', b'to', b'by',\n",
       "        b'her', b'boyfriend', b'after', b'he', b'died', b'and', b'finds',\n",
       "        b'another', b'guy', b'in', b'her', b'bed', b'and', b'is', b'told',\n",
       "        b'she', b'was', b'asking', b'him', b'to', b'make', b'love',\n",
       "        b'this', b'is', b'a', b'way', b'out', b'film', b'and', b'not',\n",
       "        b'very', b'good', b'at', b'all'], dtype=object)>,\n",
       " <tf.Tensor: shape=(), dtype=int32, numpy=0>)"
      ]
     },
     "execution_count": 4,
     "metadata": {},
     "output_type": "execute_result"
    }
   ],
   "source": [
    "tokenizer = Tokenizer()\n",
    "\n",
    "train_data = train_data.map(lambda x, y: (tokenizer(x), y))\n",
    "val_data = val_data.map(lambda x, y: (tokenizer(x), y))\n",
    "test_data = test_data.map(lambda x, y: (tokenizer(x), y))\n",
    "\n",
    "x, y = next(iter(train_data))\n",
    "x[0], y[0]"
   ]
  },
  {
   "cell_type": "markdown",
   "metadata": {},
   "source": [
    "### Removing Stopwords"
   ]
  },
  {
   "cell_type": "code",
   "execution_count": 5,
   "metadata": {},
   "outputs": [],
   "source": [
    "class StopwordFilter(tf.keras.layers.Layer):\n",
    "    \n",
    "    def __init__(self, sw, name='StopwordFilter'):\n",
    "        super(StopwordFilter, self).__init__(self, name=name)\n",
    "        \n",
    "        remove_words_keys = tf.constant(sw, dtype=tf.string)\n",
    "        remove_words_values = tf.fill([len(sw)], True)\n",
    "        \n",
    "        # Create a dict that maps a tf.string to True, if the string is in sw, else False\n",
    "        stopwords_init = tf.lookup.KeyValueTensorInitializer(\n",
    "                remove_words_keys, remove_words_values)\n",
    "        self.stopwords_table = tf.lookup.StaticHashTable(\n",
    "            stopwords_init, default_value=False)\n",
    "    \n",
    "    def call(self, words):\n",
    "        is_stopword = tf.ragged.map_flat_values(\n",
    "            self.stopwords_table.lookup, words)\n",
    "        is_stopword = tf.cast(is_stopword, tf.bool)\n",
    "        return tf.ragged.boolean_mask(words, ~is_stopword)"
   ]
  },
  {
   "cell_type": "code",
   "execution_count": 6,
   "metadata": {},
   "outputs": [
    {
     "data": {
      "text/plain": [
       "(<tf.Tensor: shape=(100,), dtype=string, numpy=\n",
       " array([b'expected', b'something', b'great', b'went', b'see', b'bomb',\n",
       "        b'basically', b'broadway', b'play', b'put', b'film', b'music',\n",
       "        b'plain', b'terrible', b'isnt', b'one', b'memorable', b'song',\n",
       "        b'movie', b'heard', b'hits', b'movie', b'wont', b'arent',\n",
       "        b'musical', b'numbers', b'go', b'long', b'got', b'go', b'restroom',\n",
       "        b'get', b'pop', b'corn', b'still', b'going', b'got', b'back',\n",
       "        b'good', b'songs', b'well', b'suck', b'pace', b'slow', b'terrible',\n",
       "        b'character', b'development', b'lead', b'praised', b'singing',\n",
       "        b'sounded', b'like', b'screamed', b'every', b'song', b'almost',\n",
       "        b'impossible', b'stand', b'movie', b'nothing', b'offer', b'anyone',\n",
       "        b'diehard', b'broadway', b'enthusiasts', b'without', b'doubt',\n",
       "        b'rated', b'movie', b'ive', b'seen', b'entire', b'life',\n",
       "        b'complete', b'waist', b'time', b'money', b'nothing', b'memorable',\n",
       "        b'movie', b'except', b'danny', b'glover', b'wasnt', b'screen',\n",
       "        b'enough', b'whose', b'character', b'wasnt', b'developed',\n",
       "        b'enough', b'rent', b'video', b'youll', b'agree', b'movie',\n",
       "        b'expensive', b'produced', b'polished', b'dog'], dtype=object)>,\n",
       " <tf.Tensor: shape=(), dtype=int32, numpy=0>)"
      ]
     },
     "execution_count": 6,
     "metadata": {},
     "output_type": "execute_result"
    }
   ],
   "source": [
    "stopword_filter = StopwordFilter(stopwords.words('english'))\n",
    "\n",
    "train_data = train_data.map(lambda x, y: (stopword_filter(x), y))\n",
    "val_data = val_data.map(lambda x, y: (stopword_filter(x), y))\n",
    "test_data = test_data.map(lambda x, y: (stopword_filter(x), y))\n",
    "\n",
    "x, y = next(iter(train_data))\n",
    "x[0], y[0]"
   ]
  },
  {
   "cell_type": "markdown",
   "metadata": {},
   "source": [
    "### Feature Engineering"
   ]
  },
  {
   "cell_type": "markdown",
   "metadata": {},
   "source": [
    "Each unique word will be transformed into an integer value. Therefore a vocabulary list of the data set needs to be created. "
   ]
  },
  {
   "cell_type": "code",
   "execution_count": 7,
   "metadata": {},
   "outputs": [],
   "source": [
    "class WordIndexer(tf.keras.layers.Layer):\n",
    "    \n",
    "    def __init__(self, vocab, name='WordIndexer'):\n",
    "        super(WordIndexer, self).__init__(self, name=name)\n",
    "        \n",
    "        vocab_keys = tf.constant(sorted(list(vocab)), dtype=tf.string)\n",
    "        vocab_values = tf.range(2, len(vocab_keys) + 2, dtype=tf.int64)\n",
    "        \n",
    "        # Create a dict that maps a tf.string to a unique index >= 2 for all of the strings in the vocab\n",
    "        # else return 1, 0 is reserved for padding\n",
    "        vocab_init = tf.lookup.KeyValueTensorInitializer(\n",
    "            vocab_keys, vocab_values)\n",
    "        self.vocab_table = tf.lookup.StaticHashTable(\n",
    "            vocab_init, default_value=1)\n",
    "\n",
    "    def call(self, words):\n",
    "        return tf.ragged.map_flat_values(self.vocab_table.lookup, words)"
   ]
  },
  {
   "cell_type": "code",
   "execution_count": 8,
   "metadata": {},
   "outputs": [
    {
     "name": "stderr",
     "output_type": "stream",
     "text": [
      "625it [01:50,  5.68it/s]\n"
     ]
    }
   ],
   "source": [
    "vocab = set()\n",
    "for x, y in tqdm.tqdm(train_data):\n",
    "    vocab.update(word for text in x for word in text.numpy())"
   ]
  },
  {
   "cell_type": "code",
   "execution_count": 9,
   "metadata": {},
   "outputs": [
    {
     "data": {
      "text/plain": [
       "(<tf.Tensor: shape=(88,), dtype=int64, numpy=\n",
       " array([148691,  83921, 141212,  48461,  79844,  27613, 148403, 112775,\n",
       "        135021,  83921,  56492,  32782,  16209,  83921,  68320,  29488,\n",
       "        130864,  19394,  45249,  35571, 138149,  39677,  23571,  50473,\n",
       "         64572, 135021,  79771, 152998,  78369, 118775,  11329,   6143,\n",
       "         16397,  26892, 140933,  83921, 148944,  87993, 148403,  48333,\n",
       "        119088,  89162,   9463,  16209,  84145,  66689,  74536,  22292,\n",
       "         47551,  48501,  16397,  98867,  48461, 141212,  44427,  77792,\n",
       "         70498,  85217,   9130,   1316,  66756,  83347,   7514,  64572,\n",
       "        100761, 131116, 104191,  44199,  80885,  48461, 124856, 153165,\n",
       "          1316,  44290, 120794,  24791,  23710,  81928,  70498,  79729,\n",
       "         56032,  26767, 153165,  48461, 120794,  79593,  79593, 138858])>,\n",
       " <tf.Tensor: shape=(), dtype=int32, numpy=0>)"
      ]
     },
     "execution_count": 9,
     "metadata": {},
     "output_type": "execute_result"
    }
   ],
   "source": [
    "word_indexer = WordIndexer(vocab)\n",
    "\n",
    "train_data = train_data.map(lambda x, y: (word_indexer(x), y))\n",
    "val_data = val_data.map(lambda x, y: (word_indexer(x), y))\n",
    "test_data = test_data.map(lambda x, y: (word_indexer(x), y))\n",
    "\n",
    "x, y = next(iter(train_data))\n",
    "x[0], y[0]"
   ]
  },
  {
   "cell_type": "markdown",
   "metadata": {},
   "source": [
    "### Padding"
   ]
  },
  {
   "cell_type": "markdown",
   "metadata": {},
   "source": [
    "The longest sentence in the data defines the input size, sentences with less words need to be padded and thus filled with zeros to match the input size. "
   ]
  },
  {
   "cell_type": "code",
   "execution_count": 10,
   "metadata": {},
   "outputs": [
    {
     "name": "stdout",
     "output_type": "stream",
     "text": [
      "WARNING:tensorflow:AutoGraph could not transform <function <lambda> at 0x7fa91c40c8b0> and will run it as-is.\n",
      "Please report this to the TensorFlow team. When filing the bug, set the verbosity to 10 (on Linux, `export AUTOGRAPH_VERBOSITY=10`) and attach the full output.\n",
      "Cause: module 'gast' has no attribute 'Index'\n",
      "To silence this warning, decorate the function with @tf.autograph.experimental.do_not_convert\n",
      "WARNING: AutoGraph could not transform <function <lambda> at 0x7fa91c40c8b0> and will run it as-is.\n",
      "Please report this to the TensorFlow team. When filing the bug, set the verbosity to 10 (on Linux, `export AUTOGRAPH_VERBOSITY=10`) and attach the full output.\n",
      "Cause: module 'gast' has no attribute 'Index'\n",
      "To silence this warning, decorate the function with @tf.autograph.experimental.do_not_convert\n"
     ]
    }
   ],
   "source": [
    "class Padder(tf.keras.layers.Layer):\n",
    "    \n",
    "    def __init__(self, input_size, name='Padder'):\n",
    "        super(Padder, self).__init__(self, name=name)\n",
    "        \n",
    "        self.input_size = input_size\n",
    "\n",
    "    def call(self, x):\n",
    "        # Pad the ragged tensors with 0 to build a full tensor\n",
    "        return x.to_tensor(default_value=0, shape=[None, self.input_size])\n",
    "\n",
    "input_size = max(train_data.map(lambda x, y: x.bounding_shape()[1]))\n",
    "padder = Padder(input_size)\n",
    "\n",
    "train_data = train_data.map(lambda x, y: (padder(x), y))\n",
    "val_data = val_data.map(lambda x, y: (padder(x), y))\n",
    "test_data = test_data.map(lambda x, y: (padder(x), y))"
   ]
  },
  {
   "cell_type": "code",
   "execution_count": 11,
   "metadata": {},
   "outputs": [
    {
     "data": {
      "text/plain": [
       "(<tf.Tensor: shape=(64, 1440), dtype=int64, numpy=\n",
       " array([[149651,  36433,  47770, ...,      0,      0,      0],\n",
       "        [150557, 131489, 131298, ...,      0,      0,      0],\n",
       "        [ 44824,  89686, 111313, ...,      0,      0,      0],\n",
       "        ...,\n",
       "        [143957, 145295,  54005, ...,      0,      0,      0],\n",
       "        [153221,  35672, 140990, ...,      0,      0,      0],\n",
       "        [  6925,  90985, 104747, ...,      0,      0,      0]])>,\n",
       " <tf.Tensor: shape=(64,), dtype=int32, numpy=\n",
       " array([0, 1, 0, 0, 1, 1, 1, 1, 0, 0, 0, 0, 0, 0, 1, 1, 1, 0, 0, 0, 0, 1,\n",
       "        0, 0, 0, 1, 1, 0, 0, 1, 0, 1, 1, 0, 1, 1, 1, 1, 0, 1, 0, 0, 0, 1,\n",
       "        1, 0, 0, 1, 1, 1, 1, 0, 0, 0, 1, 0, 0, 1, 0, 1, 0, 1, 0, 1],\n",
       "       dtype=int32)>)"
      ]
     },
     "execution_count": 11,
     "metadata": {},
     "output_type": "execute_result"
    }
   ],
   "source": [
    "x, y = next(iter(train_data))\n",
    "x, y"
   ]
  },
  {
   "cell_type": "markdown",
   "metadata": {},
   "source": [
    "# Model Definition"
   ]
  },
  {
   "cell_type": "code",
   "execution_count": 12,
   "metadata": {},
   "outputs": [
    {
     "name": "stdout",
     "output_type": "stream",
     "text": [
      "Model: \"sequential\"\n",
      "_________________________________________________________________\n",
      "Layer (type)                 Output Shape              Param #   \n",
      "=================================================================\n",
      "embedding (Embedding)        (None, 1440, 4)           622600    \n",
      "_________________________________________________________________\n",
      "separable_conv1d (SeparableC (None, 1440, 4)           48        \n",
      "_________________________________________________________________\n",
      "activation (Activation)      (None, 1440, 4)           0         \n",
      "_________________________________________________________________\n",
      "max_pooling1d (MaxPooling1D) (None, 359, 4)            0         \n",
      "_________________________________________________________________\n",
      "conv1d (Conv1D)              (None, 180, 8)            104       \n",
      "_________________________________________________________________\n",
      "activation_1 (Activation)    (None, 180, 8)            0         \n",
      "_________________________________________________________________\n",
      "conv1d_1 (Conv1D)            (None, 90, 16)            400       \n",
      "_________________________________________________________________\n",
      "activation_2 (Activation)    (None, 90, 16)            0         \n",
      "_________________________________________________________________\n",
      "conv1d_2 (Conv1D)            (None, 45, 16)            784       \n",
      "_________________________________________________________________\n",
      "activation_3 (Activation)    (None, 45, 16)            0         \n",
      "_________________________________________________________________\n",
      "global_average_pooling1d (Gl (None, 16)                0         \n",
      "_________________________________________________________________\n",
      "dense (Dense)                (None, 1)                 17        \n",
      "_________________________________________________________________\n",
      "activation_4 (Activation)    (None, 1)                 0         \n",
      "=================================================================\n",
      "Total params: 623,953\n",
      "Trainable params: 623,953\n",
      "Non-trainable params: 0\n",
      "_________________________________________________________________\n",
      "None\n"
     ]
    }
   ],
   "source": [
    "model = tf.keras.Sequential([\n",
    "    tf.keras.Input([input_size,]),\n",
    "    tf.keras.layers.Embedding(len(vocab) + 2, 4, input_length=input_size),\n",
    "    tf.keras.layers.SeparableConv1D(4, kernel_size=7, padding='same'),\n",
    "    tf.keras.layers.Activation('relu'),\n",
    "    tf.keras.layers.MaxPooling1D(pool_size=5, strides=4),\n",
    "    tf.keras.layers.Conv1D(8, kernel_size=3, strides=2, padding='same'),\n",
    "    tf.keras.layers.Activation('relu'),\n",
    "    tf.keras.layers.Conv1D(16, kernel_size=3, strides=2, padding='same'),\n",
    "    tf.keras.layers.Activation('relu'),\n",
    "    tf.keras.layers.Conv1D(16, kernel_size=3, strides=2, padding='same'),\n",
    "    tf.keras.layers.Activation('relu'),\n",
    "    tf.keras.layers.GlobalAveragePooling1D(),\n",
    "    tf.keras.layers.Dense(1),\n",
    "    tf.keras.layers.Activation('sigmoid')])\n",
    "\n",
    "print(model.summary())"
   ]
  },
  {
   "cell_type": "markdown",
   "metadata": {},
   "source": [
    "# Training"
   ]
  },
  {
   "cell_type": "code",
   "execution_count": 13,
   "metadata": {},
   "outputs": [
    {
     "name": "stdout",
     "output_type": "stream",
     "text": [
      "Epoch 1/8\n",
      "625/625 [==============================] - 38s 61ms/step - loss: 0.5440 - accuracy: 0.7074 - val_loss: 0.4184 - val_accuracy: 0.8118\n",
      "Epoch 2/8\n",
      "625/625 [==============================] - 37s 59ms/step - loss: 0.3252 - accuracy: 0.8673 - val_loss: 0.3696 - val_accuracy: 0.8360\n",
      "Epoch 3/8\n",
      "625/625 [==============================] - 37s 59ms/step - loss: 0.1749 - accuracy: 0.9369 - val_loss: 0.3466 - val_accuracy: 0.8810\n",
      "Epoch 4/8\n",
      "625/625 [==============================] - 37s 60ms/step - loss: 0.0852 - accuracy: 0.9732 - val_loss: 0.3998 - val_accuracy: 0.8752\n",
      "Epoch 5/8\n",
      "625/625 [==============================] - 38s 60ms/step - loss: 0.0401 - accuracy: 0.9892 - val_loss: 0.4868 - val_accuracy: 0.8708\n",
      "Epoch 6/8\n",
      "625/625 [==============================] - 36s 57ms/step - loss: 0.0195 - accuracy: 0.9957 - val_loss: 0.5648 - val_accuracy: 0.8708\n",
      "Epoch 7/8\n",
      "625/625 [==============================] - 35s 56ms/step - loss: 0.0116 - accuracy: 0.9978 - val_loss: 0.6493 - val_accuracy: 0.8656\n",
      "Epoch 8/8\n",
      "625/625 [==============================] - 35s 57ms/step - loss: 0.0081 - accuracy: 0.9986 - val_loss: 0.7222 - val_accuracy: 0.8612\n"
     ]
    }
   ],
   "source": [
    "model.compile(loss='binary_crossentropy', optimizer='adam', metrics='accuracy')\n",
    "model_history = model.fit(train_data, validation_data=val_data, epochs=8)"
   ]
  },
  {
   "cell_type": "code",
   "execution_count": 14,
   "metadata": {},
   "outputs": [
    {
     "data": {
      "image/png": "[encoded data removed]",
      "text/plain": [
       "<Figure size 432x288 with 1 Axes>"
      ]
     },
     "metadata": {
      "needs_background": "light"
     },
     "output_type": "display_data"
    }
   ],
   "source": [
    "# Plotting the accuracy per epoch\n",
    "plt.plot(model_history.history['accuracy'], color=(0.2, 0.4, 0.6, 0.6))\n",
    "plt.plot(model_history.history['val_accuracy'], color=(0.2, 0.9, 0.8, 0.6))\n",
    "plt.title('model loss')\n",
    "plt.ylabel('accuracy')\n",
    "plt.xlabel('Epoch')\n",
    "plt.legend(['train', 'validation'], loc='upper left')\n",
    "plt.gcf().patch.set_alpha(0.0)\n",
    "plt.gca().patch.set_alpha(0.0)\n",
    "plt.tight_layout()\n",
    "plt.show()"
   ]
  },
  {
   "cell_type": "code",
   "execution_count": 15,
   "metadata": {},
   "outputs": [
    {
     "name": "stdout",
     "output_type": "stream",
     "text": [
      "79/79 [==============================] - 2s 24ms/step - loss: 0.7184 - accuracy: 0.8534\n"
     ]
    },
    {
     "data": {
      "text/plain": [
       "[0.7183563709259033, 0.8533999919891357]"
      ]
     },
     "execution_count": 15,
     "metadata": {},
     "output_type": "execute_result"
    }
   ],
   "source": [
    "model.evaluate(test_data)"
   ]
  },
  {
   "cell_type": "markdown",
   "metadata": {},
   "source": [
    "# Full model exportation"
   ]
  },
  {
   "cell_type": "code",
   "execution_count": 16,
   "metadata": {},
   "outputs": [],
   "source": [
    "# Create a model with the preprocessing pipeline\n",
    "full_model = tf.keras.Sequential([\n",
    "    tf.keras.layers.Input([], dtype=tf.string),\n",
    "    tokenizer, stopword_filter, word_indexer, padder,\n",
    "    model])"
   ]
  },
  {
   "cell_type": "code",
   "execution_count": 17,
   "metadata": {},
   "outputs": [],
   "source": [
    "example_positive_review = 'This is one of the finest science fiction ' \\\n",
    "    'films ever made. Everything is so carefully and expertly constructed ' \\\n",
    "    'to the point that repeated viewings are just as good as the first. ' \\\n",
    "    'Also, the atmosphere, along with the amazing sets, is real shocker ' \\\n",
    "    'and few movies have managed to create the same kind eerie feeling.'\n",
    "example_negative_review = 'I watch a lot of movies and I like to give them ' \\\n",
    "    'all a chance just in case there is something interesting or exciting to ' \\\n",
    "    'warrant a viewing Unfortunately this movie has none of these features it ' \\\n",
    "    'is pointless and offers nothing in the way of story line,acting or direction ' \\\n",
    "    'The plot is non-existent with the actors just going through the motions and ' \\\n",
    "    'the dialogue is sooo boring its embarrassing. I wish the previous reviewers ' \\\n",
    "    'had posted earlier as this would have saved me 95 mins of my time'\n",
    "test_sentence = 'So good. Very good. Best movie ever! So cool.'\n",
    "test2_sentence = 'I wish I could say: \"So good. Very good. Best movie ever!' \\\n",
    "    ' So cool.\" But this is not the case. It was actually hard to watch.'\n",
    "test3_sentence = 'Thanks for your attention!'"
   ]
  },
  {
   "cell_type": "code",
   "execution_count": 18,
   "metadata": {},
   "outputs": [
    {
     "name": "stdout",
     "output_type": "stream",
     "text": [
      "[[0.99 ]\n",
      " [0.   ]\n",
      " [0.979]\n",
      " [0.982]\n",
      " [0.977]]\n"
     ]
    }
   ],
   "source": [
    "with np.printoptions(precision=3, suppress=True):\n",
    "    print(full_model(tf.constant([example_positive_review, \n",
    "                                  example_negative_review,\n",
    "                                  test_sentence, \n",
    "                                  test2_sentence, \n",
    "                                  test3_sentence])).numpy())"
   ]
  }
 ],
 "metadata": {
  "kernelspec": {
   "display_name": "Python 3",
   "language": "python",
   "name": "python3"
  },
  "language_info": {
   "codemirror_mode": {
    "name": "ipython",
    "version": 3
   },
   "file_extension": ".py",
   "mimetype": "text/x-python",
   "name": "python",
   "nbconvert_exporter": "python",
   "pygments_lexer": "ipython3",
   "version": "3.8.6"
  }
 },
 "nbformat": 4,
 "nbformat_minor": 4
}
